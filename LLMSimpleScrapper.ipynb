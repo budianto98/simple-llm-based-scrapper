{
 "cells": [
  {
   "cell_type": "markdown",
   "id": "0c5c3569-bef9-4f1b-83b0-ea52528629e5",
   "metadata": {},
   "source": [
    "# Below is the simple Web Scrapper for extract table:\n",
    "Assume that we know a bit about table\n"
   ]
  },
  {
   "cell_type": "code",
   "execution_count": 33,
   "id": "0f91c04e-022c-4db7-8bfb-3c7908f81655",
   "metadata": {},
   "outputs": [
    {
     "name": "stdout",
     "output_type": "stream",
     "text": [
      "/home/lscm/Project/SimpleCode/simple-llm-based-scrapper\n"
     ]
    }
   ],
   "source": [
    "import os\n",
    "from dotenv import dotenv_values, load_dotenv, find_dotenv\n",
    "print(os.getcwd())\n",
    "dd = load_dotenv(find_dotenv())\n",
    "config = dotenv_values(\".env\") \n"
   ]
  },
  {
   "cell_type": "markdown",
   "id": "b1965ea3-25bb-40b0-ab5c-d5c6a85efaed",
   "metadata": {},
   "source": [
    "## web scraper"
   ]
  },
  {
   "cell_type": "code",
   "execution_count": 31,
   "id": "98681b5f-5798-47aa-a9e8-81b6a36ce52f",
   "metadata": {},
   "outputs": [],
   "source": [
    "import requests\n",
    "\n",
    "from bs4 import BeautifulSoup\n",
    "import pandas as pd\n",
    "import time\n",
    "\n",
    "# URL of the website that contain table related to HS Code\n",
    "url = \"https://www.transcustoms.com/China_HS_Search.asp?word=271019\"\n",
    "\n",
    "# Send an HTTP GET request to the website\n",
    "response = requests.get(url)\n",
    "\n",
    "# Parse the HTML code using BeautifulSoup\n",
    "soup = BeautifulSoup(response.content, 'html.parser')\n"
   ]
  },
  {
   "cell_type": "markdown",
   "id": "ae7636f8-ac6a-44ae-9ad6-5feb558eac74",
   "metadata": {},
   "source": [
    "## LLM Part"
   ]
  },
  {
   "cell_type": "code",
   "execution_count": 34,
   "id": "f18b3f1d-deef-467a-a54e-ca3cdc595dd0",
   "metadata": {},
   "outputs": [],
   "source": [
    "from langchain_openai import AzureChatOpenAI, AzureOpenAIEmbeddings\n",
    "# Please Change the ENV Variables according to your own setting\n",
    "################################################################\n",
    "\n",
    "llm_model = AzureChatOpenAI(\n",
    "    temperature=0,\n",
    "     deployment_name=f\"{os.getenv('AZURE_OPENAI_MODEL_TURBO')}\",\n",
    "      openai_api_version=f\"{os.getenv('AZURE_OPENAI_API_VERSION_TURBO')}\",\n",
    "      openai_api_key=f\"{os.getenv('AZURE_OPENAI_API_KEY_TURBO')}\",\n",
    "      azure_endpoint=f\"{os.getenv('AZURE_OPENAI_ENDPOINT_TURBO')}\",\n",
    "    verbose=True\n",
    ")\n"
   ]
  },
  {
   "cell_type": "code",
   "execution_count": 35,
   "id": "fe1164b0-ab3d-4704-b192-9ab54b01fe27",
   "metadata": {},
   "outputs": [],
   "source": [
    "from langchain_core.prompts import ChatPromptTemplate\n",
    "from langchain_core.output_parsers import StrOutputParser, JsonOutputParser\n",
    "\n",
    "promptTmpl = ChatPromptTemplate.from_template(\n",
    "    \"\"\"\n",
    "                                Please extract the table related to HS编码 and HS系统商品规范中英文名称 from the following text:\n",
    "                                {text}\n",
    "                                \n",
    "                                Return a JSON object with the following format:\n",
    "                                \n",
    "                                ```json\n",
    "                                {{\"result:[{{\"HS编码\":<hscode>, \"HS系统商品规范中英文名称\":<product>}}, {{\"HS编码\":<hscode>, \"HS系统商品规范中英文名称\":<product>}}]}}\n",
    "                                ```\n",
    "                                \"\"\")\n",
    "\n",
    "def exractTable(text):\n",
    "    query = {\"text\":text} \n",
    "    result = None\n",
    "    OK = False\n",
    "    try:\n",
    "        chain = ( promptTmpl | llm_model | JsonOutputParser() )\n",
    "        Obj = chain.invoke(query)\n",
    "        result = list(Obj.values())[0]\n",
    "        OK = True\n",
    "    except:\n",
    "        chain = ( promptTmpl | llm_model | StrOutputParser() )\n",
    "        result = chain.invoke(query)\n",
    "        print(\"============== Invalid JSON =================> stroutputparser used\")\n",
    "        OK = False\n",
    "    prompt_text = promptTmpl.format(text=text)\n",
    "    return result, prompt_text, OK"
   ]
  },
  {
   "cell_type": "markdown",
   "id": "20aacd84-6fb2-45c5-bafc-611ebba7d4b7",
   "metadata": {},
   "source": [
    "## Run extracTable"
   ]
  },
  {
   "cell_type": "code",
   "execution_count": 36,
   "id": "1a0482cb-3bd8-4519-a09d-cb035a099a98",
   "metadata": {},
   "outputs": [],
   "source": [
    "result, prompt_text, OK =  exractTable(soup.text)"
   ]
  },
  {
   "cell_type": "code",
   "execution_count": 47,
   "id": "164cd78d-60c3-4b13-8a61-b0f72d41b0cf",
   "metadata": {},
   "outputs": [],
   "source": [
    "from json import JSONDecoder\n",
    "\n",
    "def extract_json_objects(text, decoder=JSONDecoder()):\n",
    "    \"\"\"Find JSON objects in text, and yield the decoded JSON data\n",
    "\n",
    "    Does not attempt to look for JSON arrays, text, or other JSON types outside\n",
    "    of a parent JSON object.\n",
    "\n",
    "    \"\"\"\n",
    "    pos = 0\n",
    "    while True:\n",
    "        match = text.find('{', pos)\n",
    "        if match == -1:\n",
    "            break\n",
    "        try:\n",
    "            result, index = decoder.raw_decode(text[match:])\n",
    "            yield result\n",
    "            pos = match + index\n",
    "        except ValueError:\n",
    "            pos = match + 1\n",
    "\n",
    "# data = \"\"\" {\\n  \"result\": [\\n    {\\n      \"HS编码\": \"2710199910\",\\n      \"HS系统商品规范中英文名称\": \"White oil (a colorless and transparent oil-like liquid composed of liquid hydrocarbon mixture, obtained from crude oil fractionation) the commercial component is 100% white mineral oil, and the viscosity of the product is 65 at 40 ℃\"\\n    },\\n    {\\n      \"HS编码\": \"2710199200\",\\n      \"HS系统商品规范中英文名称\": \"Lubricating grease, other those containing biodiesel and other than waste oils\"\\n    },\\n    {\\n      \"HS编码\": \"2710192200\",\\n      \"HS系统商品规范中英文名称\": \"Fuel oils No.5- No.7, other than those containing biodiesel\"\\n    },\\n    {\\n      \"HS编码\": \"2710192990\",\\n      \"HS系统商品规范中英文名称\": \"Other diesel oils and other fuel oils, other than those containing biodiesel\"\\n    },\\n    {\\n      \"HS编码\": \"2710191100\",\\n      \"HS系统商品规范中英文名称\": \"Aviation kerosene, other than those containing biodiesel\"\\n    },\\n    {\\n      \"HS编码\": \"2710199400\",\\n      \"HS系统商品规范中英文名称\": \"Liquid paraffin and heavy liquid paraffin, other than those containing biodiesel\"\\n    },\\n    {\\n      \"HS编码\": \"2710191910\",\\n      \"HS系统商品规范中英文名称\": \"Normal paraffin(C9-C13), other than those containing biodiesel\"\\n    },\\n    {\\n      \"HS编码\": \"2710192910\",\\n      \"HS系统商品规范中英文名称\": \"Paraffin oils(which less than 20% by volume distils at below 350℃, which more than 80% by volume distils at below 550℃), other than those containing biodiesel\"\\n    },\\n    {\\n      \"HS编码\": \"2710191920\",\\n      \"HS系统商品规范中英文名称\": \"Isoalkane solvent, excluding biodiesel with initial boiling point of 225 ℃, flash point of 92 ℃, density of 0.79g/cm3\"\\n    },\\n    {\\n      \"HS编码\": \"2710191990\",\\n      \"HS系统商品规范中英文名称\": \"Other kerosene distillages oils and preparations, other than those containing biodiesel\"\\n    },\\n    {\\n      \"HS编码\": \"2710191200\",\\n      \"HS系统商品规范中英文名称\": \"Lamp-kerosene, other than those containing biodiesel\"\\n    },\\n    {\\n      \"HS编码\": \"2710199390\",\\n      \"HS系统商品规范中英文名称\": \"Basic oils for lubricating oils, other than those containing biodiesel\"\\n    },\\n    {\\n      \"HS编码\": \"2710192300\",\\n      \"HS系统商品规范中英文名称\": \"Diesel oil for Vehicle,excluding biodiesel\"\\n    },\\n    {\\n      \"HS编码\": \"2710199100\",\\n      \"HS系统商品规范中英文名称\": \"Lubricating oils, other than those containing biodiesel and other than waste oils\"\\n    },\\n    {\\n      \"HS编码\": \"2710199310\",\\n      \"HS系统商品规范中英文名称\": \"Basic oils for lubricating oils, other than those containing biodiesel\"\\n    },\\n    {\\n      \"HS编码\": \"2710199990\",\\n      \"HS系统商品规范中英文名称\": \"Other heavy oil; other heavy oil products, excluding biodiesel, including products with oil content ≥ 70% by weight\"\\n    }\\n  ]\\n}\\n\"\"\"\n",
    "# json_s = extract_json_objects(data)\n",
    "# for item in json_s:\n",
    "#     print(item)"
   ]
  },
  {
   "cell_type": "code",
   "execution_count": 50,
   "id": "3b2730cf-5776-446a-9d73-606534628c9b",
   "metadata": {},
   "outputs": [
    {
     "name": "stdout",
     "output_type": "stream",
     "text": [
      "[{'HS系统商品规范中英文名称': 'White oil (a colorless and transparent oil-like liquid '\n",
      "                   'composed of liquid hydrocarbon mixture, obtained from '\n",
      "                   'crude oil fractionation) the commercial component is 100% '\n",
      "                   'white mineral oil, and the viscosity of the product is 65 '\n",
      "                   'at 40 ℃',\n",
      "  'HS编码': '2710199910'},\n",
      " {'HS系统商品规范中英文名称': 'Lubricating grease, other those containing biodiesel and '\n",
      "                   'other than waste oils',\n",
      "  'HS编码': '2710199200'},\n",
      " {'HS系统商品规范中英文名称': 'Fuel oils No.5- No.7, other than those containing '\n",
      "                   'biodiesel',\n",
      "  'HS编码': '2710192200'},\n",
      " {'HS系统商品规范中英文名称': 'Other diesel oils and other fuel oils, other than those '\n",
      "                   'containing biodiesel',\n",
      "  'HS编码': '2710192990'},\n",
      " {'HS系统商品规范中英文名称': 'Aviation kerosene, other than those containing biodiesel',\n",
      "  'HS编码': '2710191100'},\n",
      " {'HS系统商品规范中英文名称': 'Liquid paraffin and heavy liquid paraffin, other than '\n",
      "                   'those containing biodiesel',\n",
      "  'HS编码': '2710199400'},\n",
      " {'HS系统商品规范中英文名称': 'Normal paraffin(C9-C13), other than those containing '\n",
      "                   'biodiesel',\n",
      "  'HS编码': '2710191910'},\n",
      " {'HS系统商品规范中英文名称': 'Paraffin oils(which less than 20% by volume distils at '\n",
      "                   'below 350℃, which more than 80% by volume distils at below '\n",
      "                   '550℃), other than those containing biodiesel',\n",
      "  'HS编码': '2710192910'},\n",
      " {'HS系统商品规范中英文名称': 'Isoalkane solvent, excluding biodiesel with initial '\n",
      "                   'boiling point of 225 ℃, flash point of 92 ℃, density of '\n",
      "                   '0.79g/cm3',\n",
      "  'HS编码': '2710191920'},\n",
      " {'HS系统商品规范中英文名称': 'Other kerosene distillages oils and preparations, other '\n",
      "                   'than those containing biodiesel',\n",
      "  'HS编码': '2710191990'},\n",
      " {'HS系统商品规范中英文名称': 'Lamp-kerosene, other than those containing biodiesel',\n",
      "  'HS编码': '2710191200'},\n",
      " {'HS系统商品规范中英文名称': 'Basic oils for lubricating oils, other than those '\n",
      "                   'containing biodiesel',\n",
      "  'HS编码': '2710199390'},\n",
      " {'HS系统商品规范中英文名称': 'Diesel oil for Vehicle,excluding biodiesel',\n",
      "  'HS编码': '2710192300'},\n",
      " {'HS系统商品规范中英文名称': 'Lubricating oils, other than those containing biodiesel '\n",
      "                   'and other than waste oils',\n",
      "  'HS编码': '2710199100'},\n",
      " {'HS系统商品规范中英文名称': 'Basic oils for lubricating oils, other than those '\n",
      "                   'containing biodiesel',\n",
      "  'HS编码': '2710199310'},\n",
      " {'HS系统商品规范中英文名称': 'Other heavy oil; other heavy oil products, excluding '\n",
      "                   'biodiesel, including products with oil content ≥ 70% by '\n",
      "                   'weight',\n",
      "  'HS编码': '2710199990'}]\n"
     ]
    }
   ],
   "source": [
    "import pprint\n",
    "\n",
    "\n",
    "if OK: \n",
    "    pprint.pprint(result)\n",
    "else:\n",
    "    json_s = extract_json_objects(data)\n",
    "    if len(json_s)>0:\n",
    "        pprint.pprint(json_s[0])\n",
    "    else:\n",
    "        print(\"Something is wrong, this is the raw text: \", result)"
   ]
  }
 ],
 "metadata": {
  "kernelspec": {
   "display_name": "Python 3 (ipykernel)",
   "language": "python",
   "name": "python3"
  },
  "language_info": {
   "codemirror_mode": {
    "name": "ipython",
    "version": 3
   },
   "file_extension": ".py",
   "mimetype": "text/x-python",
   "name": "python",
   "nbconvert_exporter": "python",
   "pygments_lexer": "ipython3",
   "version": "3.11.5"
  }
 },
 "nbformat": 4,
 "nbformat_minor": 5
}
