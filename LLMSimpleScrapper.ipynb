{
  "cells": [
    {
      "cell_type": "markdown",
      "metadata": {
        "id": "view-in-github",
        "colab_type": "text"
      },
      "source": [
        "<a href=\"https://colab.research.google.com/github/budianto98/simple-llm-based-scrapper/blob/main/LLMSimpleScrapper.ipynb\" target=\"_parent\"><img src=\"https://colab.research.google.com/assets/colab-badge.svg\" alt=\"Open In Colab\"/></a>"
      ]
    },
    {
      "cell_type": "markdown",
      "id": "0c5c3569-bef9-4f1b-83b0-ea52528629e5",
      "metadata": {
        "id": "0c5c3569-bef9-4f1b-83b0-ea52528629e5"
      },
      "source": [
        "# Below is the simple Web Scrapper for extract table:\n",
        "Assume that we know a bit about table\n"
      ]
    },
    {
      "cell_type": "code",
      "source": [
        "! pip install python-dotenv\n",
        "! pip install langchain-community\n",
        "! pip install langchain\n",
        "! pip install openai\n",
        "! pip install requests\n",
        "! pip install beautifulsoup4\n",
        "! pip install langchain-openai"
      ],
      "metadata": {
        "id": "GiOxwV2n-LrE",
        "outputId": "8745ee3f-65fe-448a-f3dc-442917647d2f",
        "colab": {
          "base_uri": "https://localhost:8080/"
        }
      },
      "id": "GiOxwV2n-LrE",
      "execution_count": 6,
      "outputs": [
        {
          "output_type": "stream",
          "name": "stdout",
          "text": [
            "Requirement already satisfied: python-dotenv in /usr/local/lib/python3.10/dist-packages (1.0.1)\n",
            "Requirement already satisfied: langchain-community in /usr/local/lib/python3.10/dist-packages (0.0.38)\n",
            "Requirement already satisfied: PyYAML>=5.3 in /usr/local/lib/python3.10/dist-packages (from langchain-community) (6.0.1)\n",
            "Requirement already satisfied: SQLAlchemy<3,>=1.4 in /usr/local/lib/python3.10/dist-packages (from langchain-community) (2.0.29)\n",
            "Requirement already satisfied: aiohttp<4.0.0,>=3.8.3 in /usr/local/lib/python3.10/dist-packages (from langchain-community) (3.9.5)\n",
            "Requirement already satisfied: dataclasses-json<0.7,>=0.5.7 in /usr/local/lib/python3.10/dist-packages (from langchain-community) (0.6.5)\n",
            "Requirement already satisfied: langchain-core<0.2.0,>=0.1.52 in /usr/local/lib/python3.10/dist-packages (from langchain-community) (0.1.52)\n",
            "Requirement already satisfied: langsmith<0.2.0,>=0.1.0 in /usr/local/lib/python3.10/dist-packages (from langchain-community) (0.1.56)\n",
            "Requirement already satisfied: numpy<2,>=1 in /usr/local/lib/python3.10/dist-packages (from langchain-community) (1.25.2)\n",
            "Requirement already satisfied: requests<3,>=2 in /usr/local/lib/python3.10/dist-packages (from langchain-community) (2.31.0)\n",
            "Requirement already satisfied: tenacity<9.0.0,>=8.1.0 in /usr/local/lib/python3.10/dist-packages (from langchain-community) (8.2.3)\n",
            "Requirement already satisfied: aiosignal>=1.1.2 in /usr/local/lib/python3.10/dist-packages (from aiohttp<4.0.0,>=3.8.3->langchain-community) (1.3.1)\n",
            "Requirement already satisfied: attrs>=17.3.0 in /usr/local/lib/python3.10/dist-packages (from aiohttp<4.0.0,>=3.8.3->langchain-community) (23.2.0)\n",
            "Requirement already satisfied: frozenlist>=1.1.1 in /usr/local/lib/python3.10/dist-packages (from aiohttp<4.0.0,>=3.8.3->langchain-community) (1.4.1)\n",
            "Requirement already satisfied: multidict<7.0,>=4.5 in /usr/local/lib/python3.10/dist-packages (from aiohttp<4.0.0,>=3.8.3->langchain-community) (6.0.5)\n",
            "Requirement already satisfied: yarl<2.0,>=1.0 in /usr/local/lib/python3.10/dist-packages (from aiohttp<4.0.0,>=3.8.3->langchain-community) (1.9.4)\n",
            "Requirement already satisfied: async-timeout<5.0,>=4.0 in /usr/local/lib/python3.10/dist-packages (from aiohttp<4.0.0,>=3.8.3->langchain-community) (4.0.3)\n",
            "Requirement already satisfied: marshmallow<4.0.0,>=3.18.0 in /usr/local/lib/python3.10/dist-packages (from dataclasses-json<0.7,>=0.5.7->langchain-community) (3.21.2)\n",
            "Requirement already satisfied: typing-inspect<1,>=0.4.0 in /usr/local/lib/python3.10/dist-packages (from dataclasses-json<0.7,>=0.5.7->langchain-community) (0.9.0)\n",
            "Requirement already satisfied: jsonpatch<2.0,>=1.33 in /usr/local/lib/python3.10/dist-packages (from langchain-core<0.2.0,>=0.1.52->langchain-community) (1.33)\n",
            "Requirement already satisfied: packaging<24.0,>=23.2 in /usr/local/lib/python3.10/dist-packages (from langchain-core<0.2.0,>=0.1.52->langchain-community) (23.2)\n",
            "Requirement already satisfied: pydantic<3,>=1 in /usr/local/lib/python3.10/dist-packages (from langchain-core<0.2.0,>=0.1.52->langchain-community) (2.7.1)\n",
            "Requirement already satisfied: orjson<4.0.0,>=3.9.14 in /usr/local/lib/python3.10/dist-packages (from langsmith<0.2.0,>=0.1.0->langchain-community) (3.10.3)\n",
            "Requirement already satisfied: charset-normalizer<4,>=2 in /usr/local/lib/python3.10/dist-packages (from requests<3,>=2->langchain-community) (3.3.2)\n",
            "Requirement already satisfied: idna<4,>=2.5 in /usr/local/lib/python3.10/dist-packages (from requests<3,>=2->langchain-community) (3.7)\n",
            "Requirement already satisfied: urllib3<3,>=1.21.1 in /usr/local/lib/python3.10/dist-packages (from requests<3,>=2->langchain-community) (2.0.7)\n",
            "Requirement already satisfied: certifi>=2017.4.17 in /usr/local/lib/python3.10/dist-packages (from requests<3,>=2->langchain-community) (2024.2.2)\n",
            "Requirement already satisfied: typing-extensions>=4.6.0 in /usr/local/lib/python3.10/dist-packages (from SQLAlchemy<3,>=1.4->langchain-community) (4.11.0)\n",
            "Requirement already satisfied: greenlet!=0.4.17 in /usr/local/lib/python3.10/dist-packages (from SQLAlchemy<3,>=1.4->langchain-community) (3.0.3)\n",
            "Requirement already satisfied: jsonpointer>=1.9 in /usr/local/lib/python3.10/dist-packages (from jsonpatch<2.0,>=1.33->langchain-core<0.2.0,>=0.1.52->langchain-community) (2.4)\n",
            "Requirement already satisfied: annotated-types>=0.4.0 in /usr/local/lib/python3.10/dist-packages (from pydantic<3,>=1->langchain-core<0.2.0,>=0.1.52->langchain-community) (0.6.0)\n",
            "Requirement already satisfied: pydantic-core==2.18.2 in /usr/local/lib/python3.10/dist-packages (from pydantic<3,>=1->langchain-core<0.2.0,>=0.1.52->langchain-community) (2.18.2)\n",
            "Requirement already satisfied: mypy-extensions>=0.3.0 in /usr/local/lib/python3.10/dist-packages (from typing-inspect<1,>=0.4.0->dataclasses-json<0.7,>=0.5.7->langchain-community) (1.0.0)\n",
            "Requirement already satisfied: langchain in /usr/local/lib/python3.10/dist-packages (0.1.19)\n",
            "Requirement already satisfied: PyYAML>=5.3 in /usr/local/lib/python3.10/dist-packages (from langchain) (6.0.1)\n",
            "Requirement already satisfied: SQLAlchemy<3,>=1.4 in /usr/local/lib/python3.10/dist-packages (from langchain) (2.0.29)\n",
            "Requirement already satisfied: aiohttp<4.0.0,>=3.8.3 in /usr/local/lib/python3.10/dist-packages (from langchain) (3.9.5)\n",
            "Requirement already satisfied: async-timeout<5.0.0,>=4.0.0 in /usr/local/lib/python3.10/dist-packages (from langchain) (4.0.3)\n",
            "Requirement already satisfied: dataclasses-json<0.7,>=0.5.7 in /usr/local/lib/python3.10/dist-packages (from langchain) (0.6.5)\n",
            "Requirement already satisfied: langchain-community<0.1,>=0.0.38 in /usr/local/lib/python3.10/dist-packages (from langchain) (0.0.38)\n",
            "Requirement already satisfied: langchain-core<0.2.0,>=0.1.52 in /usr/local/lib/python3.10/dist-packages (from langchain) (0.1.52)\n",
            "Requirement already satisfied: langchain-text-splitters<0.1,>=0.0.1 in /usr/local/lib/python3.10/dist-packages (from langchain) (0.0.1)\n",
            "Requirement already satisfied: langsmith<0.2.0,>=0.1.17 in /usr/local/lib/python3.10/dist-packages (from langchain) (0.1.56)\n",
            "Requirement already satisfied: numpy<2,>=1 in /usr/local/lib/python3.10/dist-packages (from langchain) (1.25.2)\n",
            "Requirement already satisfied: pydantic<3,>=1 in /usr/local/lib/python3.10/dist-packages (from langchain) (2.7.1)\n",
            "Requirement already satisfied: requests<3,>=2 in /usr/local/lib/python3.10/dist-packages (from langchain) (2.31.0)\n",
            "Requirement already satisfied: tenacity<9.0.0,>=8.1.0 in /usr/local/lib/python3.10/dist-packages (from langchain) (8.2.3)\n",
            "Requirement already satisfied: aiosignal>=1.1.2 in /usr/local/lib/python3.10/dist-packages (from aiohttp<4.0.0,>=3.8.3->langchain) (1.3.1)\n",
            "Requirement already satisfied: attrs>=17.3.0 in /usr/local/lib/python3.10/dist-packages (from aiohttp<4.0.0,>=3.8.3->langchain) (23.2.0)\n",
            "Requirement already satisfied: frozenlist>=1.1.1 in /usr/local/lib/python3.10/dist-packages (from aiohttp<4.0.0,>=3.8.3->langchain) (1.4.1)\n",
            "Requirement already satisfied: multidict<7.0,>=4.5 in /usr/local/lib/python3.10/dist-packages (from aiohttp<4.0.0,>=3.8.3->langchain) (6.0.5)\n",
            "Requirement already satisfied: yarl<2.0,>=1.0 in /usr/local/lib/python3.10/dist-packages (from aiohttp<4.0.0,>=3.8.3->langchain) (1.9.4)\n",
            "Requirement already satisfied: marshmallow<4.0.0,>=3.18.0 in /usr/local/lib/python3.10/dist-packages (from dataclasses-json<0.7,>=0.5.7->langchain) (3.21.2)\n",
            "Requirement already satisfied: typing-inspect<1,>=0.4.0 in /usr/local/lib/python3.10/dist-packages (from dataclasses-json<0.7,>=0.5.7->langchain) (0.9.0)\n",
            "Requirement already satisfied: jsonpatch<2.0,>=1.33 in /usr/local/lib/python3.10/dist-packages (from langchain-core<0.2.0,>=0.1.52->langchain) (1.33)\n",
            "Requirement already satisfied: packaging<24.0,>=23.2 in /usr/local/lib/python3.10/dist-packages (from langchain-core<0.2.0,>=0.1.52->langchain) (23.2)\n",
            "Requirement already satisfied: orjson<4.0.0,>=3.9.14 in /usr/local/lib/python3.10/dist-packages (from langsmith<0.2.0,>=0.1.17->langchain) (3.10.3)\n",
            "Requirement already satisfied: annotated-types>=0.4.0 in /usr/local/lib/python3.10/dist-packages (from pydantic<3,>=1->langchain) (0.6.0)\n",
            "Requirement already satisfied: pydantic-core==2.18.2 in /usr/local/lib/python3.10/dist-packages (from pydantic<3,>=1->langchain) (2.18.2)\n",
            "Requirement already satisfied: typing-extensions>=4.6.1 in /usr/local/lib/python3.10/dist-packages (from pydantic<3,>=1->langchain) (4.11.0)\n",
            "Requirement already satisfied: charset-normalizer<4,>=2 in /usr/local/lib/python3.10/dist-packages (from requests<3,>=2->langchain) (3.3.2)\n",
            "Requirement already satisfied: idna<4,>=2.5 in /usr/local/lib/python3.10/dist-packages (from requests<3,>=2->langchain) (3.7)\n",
            "Requirement already satisfied: urllib3<3,>=1.21.1 in /usr/local/lib/python3.10/dist-packages (from requests<3,>=2->langchain) (2.0.7)\n",
            "Requirement already satisfied: certifi>=2017.4.17 in /usr/local/lib/python3.10/dist-packages (from requests<3,>=2->langchain) (2024.2.2)\n",
            "Requirement already satisfied: greenlet!=0.4.17 in /usr/local/lib/python3.10/dist-packages (from SQLAlchemy<3,>=1.4->langchain) (3.0.3)\n",
            "Requirement already satisfied: jsonpointer>=1.9 in /usr/local/lib/python3.10/dist-packages (from jsonpatch<2.0,>=1.33->langchain-core<0.2.0,>=0.1.52->langchain) (2.4)\n",
            "Requirement already satisfied: mypy-extensions>=0.3.0 in /usr/local/lib/python3.10/dist-packages (from typing-inspect<1,>=0.4.0->dataclasses-json<0.7,>=0.5.7->langchain) (1.0.0)\n",
            "Requirement already satisfied: openai in /usr/local/lib/python3.10/dist-packages (1.27.0)\n",
            "Requirement already satisfied: anyio<5,>=3.5.0 in /usr/local/lib/python3.10/dist-packages (from openai) (3.7.1)\n",
            "Requirement already satisfied: distro<2,>=1.7.0 in /usr/lib/python3/dist-packages (from openai) (1.7.0)\n",
            "Requirement already satisfied: httpx<1,>=0.23.0 in /usr/local/lib/python3.10/dist-packages (from openai) (0.27.0)\n",
            "Requirement already satisfied: pydantic<3,>=1.9.0 in /usr/local/lib/python3.10/dist-packages (from openai) (2.7.1)\n",
            "Requirement already satisfied: sniffio in /usr/local/lib/python3.10/dist-packages (from openai) (1.3.1)\n",
            "Requirement already satisfied: tqdm>4 in /usr/local/lib/python3.10/dist-packages (from openai) (4.66.4)\n",
            "Requirement already satisfied: typing-extensions<5,>=4.7 in /usr/local/lib/python3.10/dist-packages (from openai) (4.11.0)\n",
            "Requirement already satisfied: idna>=2.8 in /usr/local/lib/python3.10/dist-packages (from anyio<5,>=3.5.0->openai) (3.7)\n",
            "Requirement already satisfied: exceptiongroup in /usr/local/lib/python3.10/dist-packages (from anyio<5,>=3.5.0->openai) (1.2.1)\n",
            "Requirement already satisfied: certifi in /usr/local/lib/python3.10/dist-packages (from httpx<1,>=0.23.0->openai) (2024.2.2)\n",
            "Requirement already satisfied: httpcore==1.* in /usr/local/lib/python3.10/dist-packages (from httpx<1,>=0.23.0->openai) (1.0.5)\n",
            "Requirement already satisfied: h11<0.15,>=0.13 in /usr/local/lib/python3.10/dist-packages (from httpcore==1.*->httpx<1,>=0.23.0->openai) (0.14.0)\n",
            "Requirement already satisfied: annotated-types>=0.4.0 in /usr/local/lib/python3.10/dist-packages (from pydantic<3,>=1.9.0->openai) (0.6.0)\n",
            "Requirement already satisfied: pydantic-core==2.18.2 in /usr/local/lib/python3.10/dist-packages (from pydantic<3,>=1.9.0->openai) (2.18.2)\n",
            "Requirement already satisfied: requests in /usr/local/lib/python3.10/dist-packages (2.31.0)\n",
            "Requirement already satisfied: charset-normalizer<4,>=2 in /usr/local/lib/python3.10/dist-packages (from requests) (3.3.2)\n",
            "Requirement already satisfied: idna<4,>=2.5 in /usr/local/lib/python3.10/dist-packages (from requests) (3.7)\n",
            "Requirement already satisfied: urllib3<3,>=1.21.1 in /usr/local/lib/python3.10/dist-packages (from requests) (2.0.7)\n",
            "Requirement already satisfied: certifi>=2017.4.17 in /usr/local/lib/python3.10/dist-packages (from requests) (2024.2.2)\n",
            "Requirement already satisfied: beautifulsoup4 in /usr/local/lib/python3.10/dist-packages (4.12.3)\n",
            "Requirement already satisfied: soupsieve>1.2 in /usr/local/lib/python3.10/dist-packages (from beautifulsoup4) (2.5)\n",
            "Collecting langchain-openai\n",
            "  Downloading langchain_openai-0.1.6-py3-none-any.whl (34 kB)\n",
            "Requirement already satisfied: langchain-core<0.2.0,>=0.1.46 in /usr/local/lib/python3.10/dist-packages (from langchain-openai) (0.1.52)\n",
            "Requirement already satisfied: openai<2.0.0,>=1.24.0 in /usr/local/lib/python3.10/dist-packages (from langchain-openai) (1.27.0)\n",
            "Collecting tiktoken<1,>=0.5.2 (from langchain-openai)\n",
            "  Downloading tiktoken-0.6.0-cp310-cp310-manylinux_2_17_x86_64.manylinux2014_x86_64.whl (1.8 MB)\n",
            "\u001b[2K     \u001b[90m━━━━━━━━━━━━━━━━━━━━━━━━━━━━━━━━━━━━━━━━\u001b[0m \u001b[32m1.8/1.8 MB\u001b[0m \u001b[31m13.4 MB/s\u001b[0m eta \u001b[36m0:00:00\u001b[0m\n",
            "\u001b[?25hRequirement already satisfied: PyYAML>=5.3 in /usr/local/lib/python3.10/dist-packages (from langchain-core<0.2.0,>=0.1.46->langchain-openai) (6.0.1)\n",
            "Requirement already satisfied: jsonpatch<2.0,>=1.33 in /usr/local/lib/python3.10/dist-packages (from langchain-core<0.2.0,>=0.1.46->langchain-openai) (1.33)\n",
            "Requirement already satisfied: langsmith<0.2.0,>=0.1.0 in /usr/local/lib/python3.10/dist-packages (from langchain-core<0.2.0,>=0.1.46->langchain-openai) (0.1.56)\n",
            "Requirement already satisfied: packaging<24.0,>=23.2 in /usr/local/lib/python3.10/dist-packages (from langchain-core<0.2.0,>=0.1.46->langchain-openai) (23.2)\n",
            "Requirement already satisfied: pydantic<3,>=1 in /usr/local/lib/python3.10/dist-packages (from langchain-core<0.2.0,>=0.1.46->langchain-openai) (2.7.1)\n",
            "Requirement already satisfied: tenacity<9.0.0,>=8.1.0 in /usr/local/lib/python3.10/dist-packages (from langchain-core<0.2.0,>=0.1.46->langchain-openai) (8.2.3)\n",
            "Requirement already satisfied: anyio<5,>=3.5.0 in /usr/local/lib/python3.10/dist-packages (from openai<2.0.0,>=1.24.0->langchain-openai) (3.7.1)\n",
            "Requirement already satisfied: distro<2,>=1.7.0 in /usr/lib/python3/dist-packages (from openai<2.0.0,>=1.24.0->langchain-openai) (1.7.0)\n",
            "Requirement already satisfied: httpx<1,>=0.23.0 in /usr/local/lib/python3.10/dist-packages (from openai<2.0.0,>=1.24.0->langchain-openai) (0.27.0)\n",
            "Requirement already satisfied: sniffio in /usr/local/lib/python3.10/dist-packages (from openai<2.0.0,>=1.24.0->langchain-openai) (1.3.1)\n",
            "Requirement already satisfied: tqdm>4 in /usr/local/lib/python3.10/dist-packages (from openai<2.0.0,>=1.24.0->langchain-openai) (4.66.4)\n",
            "Requirement already satisfied: typing-extensions<5,>=4.7 in /usr/local/lib/python3.10/dist-packages (from openai<2.0.0,>=1.24.0->langchain-openai) (4.11.0)\n",
            "Requirement already satisfied: regex>=2022.1.18 in /usr/local/lib/python3.10/dist-packages (from tiktoken<1,>=0.5.2->langchain-openai) (2023.12.25)\n",
            "Requirement already satisfied: requests>=2.26.0 in /usr/local/lib/python3.10/dist-packages (from tiktoken<1,>=0.5.2->langchain-openai) (2.31.0)\n",
            "Requirement already satisfied: idna>=2.8 in /usr/local/lib/python3.10/dist-packages (from anyio<5,>=3.5.0->openai<2.0.0,>=1.24.0->langchain-openai) (3.7)\n",
            "Requirement already satisfied: exceptiongroup in /usr/local/lib/python3.10/dist-packages (from anyio<5,>=3.5.0->openai<2.0.0,>=1.24.0->langchain-openai) (1.2.1)\n",
            "Requirement already satisfied: certifi in /usr/local/lib/python3.10/dist-packages (from httpx<1,>=0.23.0->openai<2.0.0,>=1.24.0->langchain-openai) (2024.2.2)\n",
            "Requirement already satisfied: httpcore==1.* in /usr/local/lib/python3.10/dist-packages (from httpx<1,>=0.23.0->openai<2.0.0,>=1.24.0->langchain-openai) (1.0.5)\n",
            "Requirement already satisfied: h11<0.15,>=0.13 in /usr/local/lib/python3.10/dist-packages (from httpcore==1.*->httpx<1,>=0.23.0->openai<2.0.0,>=1.24.0->langchain-openai) (0.14.0)\n",
            "Requirement already satisfied: jsonpointer>=1.9 in /usr/local/lib/python3.10/dist-packages (from jsonpatch<2.0,>=1.33->langchain-core<0.2.0,>=0.1.46->langchain-openai) (2.4)\n",
            "Requirement already satisfied: orjson<4.0.0,>=3.9.14 in /usr/local/lib/python3.10/dist-packages (from langsmith<0.2.0,>=0.1.0->langchain-core<0.2.0,>=0.1.46->langchain-openai) (3.10.3)\n",
            "Requirement already satisfied: annotated-types>=0.4.0 in /usr/local/lib/python3.10/dist-packages (from pydantic<3,>=1->langchain-core<0.2.0,>=0.1.46->langchain-openai) (0.6.0)\n",
            "Requirement already satisfied: pydantic-core==2.18.2 in /usr/local/lib/python3.10/dist-packages (from pydantic<3,>=1->langchain-core<0.2.0,>=0.1.46->langchain-openai) (2.18.2)\n",
            "Requirement already satisfied: charset-normalizer<4,>=2 in /usr/local/lib/python3.10/dist-packages (from requests>=2.26.0->tiktoken<1,>=0.5.2->langchain-openai) (3.3.2)\n",
            "Requirement already satisfied: urllib3<3,>=1.21.1 in /usr/local/lib/python3.10/dist-packages (from requests>=2.26.0->tiktoken<1,>=0.5.2->langchain-openai) (2.0.7)\n",
            "Installing collected packages: tiktoken, langchain-openai\n",
            "Successfully installed langchain-openai-0.1.6 tiktoken-0.6.0\n"
          ]
        }
      ]
    },
    {
      "cell_type": "code",
      "execution_count": 13,
      "id": "0f91c04e-022c-4db7-8bfb-3c7908f81655",
      "metadata": {
        "id": "0f91c04e-022c-4db7-8bfb-3c7908f81655",
        "outputId": "d4f51dc3-cc7a-4b04-c581-c2e63e133bd3",
        "colab": {
          "base_uri": "https://localhost:8080/"
        }
      },
      "outputs": [
        {
          "output_type": "stream",
          "name": "stdout",
          "text": [
            "/content\n",
            "systems-mt-evaluation-gpt-4\n"
          ]
        }
      ],
      "source": [
        "import os\n",
        "from dotenv import dotenv_values, load_dotenv, find_dotenv\n",
        "print(os.getcwd())\n",
        "dd = load_dotenv(find_dotenv())\n",
        "config = dotenv_values(\".env\")\n",
        "print(os.getenv('AZURE_OPENAI_MODEL_TURBO'))"
      ]
    },
    {
      "cell_type": "markdown",
      "id": "b1965ea3-25bb-40b0-ab5c-d5c6a85efaed",
      "metadata": {
        "id": "b1965ea3-25bb-40b0-ab5c-d5c6a85efaed"
      },
      "source": [
        "## web scraper"
      ]
    },
    {
      "cell_type": "code",
      "execution_count": 4,
      "id": "98681b5f-5798-47aa-a9e8-81b6a36ce52f",
      "metadata": {
        "id": "98681b5f-5798-47aa-a9e8-81b6a36ce52f"
      },
      "outputs": [],
      "source": [
        "import requests\n",
        "\n",
        "from bs4 import BeautifulSoup\n",
        "import pandas as pd\n",
        "import time\n",
        "\n",
        "# URL of the website that contain table related to HS Code\n",
        "url = \"https://www.transcustoms.com/China_HS_Search.asp?word=271019\"\n",
        "\n",
        "# Send an HTTP GET request to the website\n",
        "response = requests.get(url)\n",
        "\n",
        "# Parse the HTML code using BeautifulSoup\n",
        "soup = BeautifulSoup(response.content, 'html.parser')\n"
      ]
    },
    {
      "cell_type": "markdown",
      "id": "ae7636f8-ac6a-44ae-9ad6-5feb558eac74",
      "metadata": {
        "id": "ae7636f8-ac6a-44ae-9ad6-5feb558eac74"
      },
      "source": [
        "## LLM Part"
      ]
    },
    {
      "cell_type": "code",
      "execution_count": 14,
      "id": "f18b3f1d-deef-467a-a54e-ca3cdc595dd0",
      "metadata": {
        "id": "f18b3f1d-deef-467a-a54e-ca3cdc595dd0"
      },
      "outputs": [],
      "source": [
        "from langchain_openai import AzureChatOpenAI, AzureOpenAIEmbeddings\n",
        "# Please Change the ENV Variables according to your own setting\n",
        "################################################################\n",
        "\n",
        "llm_model = AzureChatOpenAI(\n",
        "    temperature=0,\n",
        "     deployment_name=f\"{os.getenv('AZURE_OPENAI_MODEL_TURBO')}\",\n",
        "      openai_api_version=f\"{os.getenv('AZURE_OPENAI_API_VERSION_TURBO')}\",\n",
        "      openai_api_key=f\"{os.getenv('AZURE_OPENAI_API_KEY_TURBO')}\",\n",
        "      azure_endpoint=f\"{os.getenv('AZURE_OPENAI_ENDPOINT_TURBO')}\",\n",
        "    verbose=True\n",
        ")\n"
      ]
    },
    {
      "cell_type": "code",
      "execution_count": 15,
      "id": "fe1164b0-ab3d-4704-b192-9ab54b01fe27",
      "metadata": {
        "id": "fe1164b0-ab3d-4704-b192-9ab54b01fe27"
      },
      "outputs": [],
      "source": [
        "from langchain_core.prompts import ChatPromptTemplate\n",
        "from langchain_core.output_parsers import StrOutputParser, JsonOutputParser\n",
        "\n",
        "promptTmpl = ChatPromptTemplate.from_template(\n",
        "    \"\"\"\n",
        "                                Please extract the table related to HS编码 and HS系统商品规范中英文名称 from the following text:\n",
        "                                {text}\n",
        "\n",
        "                                Return a JSON object with the following format:\n",
        "\n",
        "                                ```json\n",
        "                                {{\"result:[{{\"HS编码\":<hscode>, \"HS系统商品规范中英文名称\":<product>}}, {{\"HS编码\":<hscode>, \"HS系统商品规范中英文名称\":<product>}}]}}\n",
        "                                ```\n",
        "                                \"\"\")\n",
        "\n",
        "def exractTable(text):\n",
        "    query = {\"text\":text}\n",
        "    result = None\n",
        "    OK = False\n",
        "    try:\n",
        "        chain = ( promptTmpl | llm_model | JsonOutputParser() )\n",
        "        Obj = chain.invoke(query)\n",
        "        result = list(Obj.values())[0]\n",
        "        OK = True\n",
        "    except:\n",
        "        chain = ( promptTmpl | llm_model | StrOutputParser() )\n",
        "        result = chain.invoke(query)\n",
        "        print(\"============== Invalid JSON =================> stroutputparser used\")\n",
        "        OK = False\n",
        "    prompt_text = promptTmpl.format(text=text)\n",
        "    return result, prompt_text, OK"
      ]
    },
    {
      "cell_type": "markdown",
      "id": "20aacd84-6fb2-45c5-bafc-611ebba7d4b7",
      "metadata": {
        "id": "20aacd84-6fb2-45c5-bafc-611ebba7d4b7"
      },
      "source": [
        "## Run extracTable"
      ]
    },
    {
      "cell_type": "code",
      "execution_count": 16,
      "id": "1a0482cb-3bd8-4519-a09d-cb035a099a98",
      "metadata": {
        "id": "1a0482cb-3bd8-4519-a09d-cb035a099a98"
      },
      "outputs": [],
      "source": [
        "result, prompt_text, OK =  exractTable(soup.text)"
      ]
    },
    {
      "cell_type": "code",
      "execution_count": 17,
      "id": "164cd78d-60c3-4b13-8a61-b0f72d41b0cf",
      "metadata": {
        "id": "164cd78d-60c3-4b13-8a61-b0f72d41b0cf"
      },
      "outputs": [],
      "source": [
        "from json import JSONDecoder\n",
        "\n",
        "def extract_json_objects(text, decoder=JSONDecoder()):\n",
        "    \"\"\"Find JSON objects in text, and yield the decoded JSON data\n",
        "\n",
        "    Does not attempt to look for JSON arrays, text, or other JSON types outside\n",
        "    of a parent JSON object.\n",
        "\n",
        "    \"\"\"\n",
        "    pos = 0\n",
        "    while True:\n",
        "        match = text.find('{', pos)\n",
        "        if match == -1:\n",
        "            break\n",
        "        try:\n",
        "            result, index = decoder.raw_decode(text[match:])\n",
        "            yield result\n",
        "            pos = match + index\n",
        "        except ValueError:\n",
        "            pos = match + 1\n",
        "\n",
        "# data = \"\"\" {\\n  \"result\": [\\n    {\\n      \"HS编码\": \"2710199910\",\\n      \"HS系统商品规范中英文名称\": \"White oil (a colorless and transparent oil-like liquid composed of liquid hydrocarbon mixture, obtained from crude oil fractionation) the commercial component is 100% white mineral oil, and the viscosity of the product is 65 at 40 ℃\"\\n    },\\n    {\\n      \"HS编码\": \"2710199200\",\\n      \"HS系统商品规范中英文名称\": \"Lubricating grease, other those containing biodiesel and other than waste oils\"\\n    },\\n    {\\n      \"HS编码\": \"2710192200\",\\n      \"HS系统商品规范中英文名称\": \"Fuel oils No.5- No.7, other than those containing biodiesel\"\\n    },\\n    {\\n      \"HS编码\": \"2710192990\",\\n      \"HS系统商品规范中英文名称\": \"Other diesel oils and other fuel oils, other than those containing biodiesel\"\\n    },\\n    {\\n      \"HS编码\": \"2710191100\",\\n      \"HS系统商品规范中英文名称\": \"Aviation kerosene, other than those containing biodiesel\"\\n    },\\n    {\\n      \"HS编码\": \"2710199400\",\\n      \"HS系统商品规范中英文名称\": \"Liquid paraffin and heavy liquid paraffin, other than those containing biodiesel\"\\n    },\\n    {\\n      \"HS编码\": \"2710191910\",\\n      \"HS系统商品规范中英文名称\": \"Normal paraffin(C9-C13), other than those containing biodiesel\"\\n    },\\n    {\\n      \"HS编码\": \"2710192910\",\\n      \"HS系统商品规范中英文名称\": \"Paraffin oils(which less than 20% by volume distils at below 350℃, which more than 80% by volume distils at below 550℃), other than those containing biodiesel\"\\n    },\\n    {\\n      \"HS编码\": \"2710191920\",\\n      \"HS系统商品规范中英文名称\": \"Isoalkane solvent, excluding biodiesel with initial boiling point of 225 ℃, flash point of 92 ℃, density of 0.79g/cm3\"\\n    },\\n    {\\n      \"HS编码\": \"2710191990\",\\n      \"HS系统商品规范中英文名称\": \"Other kerosene distillages oils and preparations, other than those containing biodiesel\"\\n    },\\n    {\\n      \"HS编码\": \"2710191200\",\\n      \"HS系统商品规范中英文名称\": \"Lamp-kerosene, other than those containing biodiesel\"\\n    },\\n    {\\n      \"HS编码\": \"2710199390\",\\n      \"HS系统商品规范中英文名称\": \"Basic oils for lubricating oils, other than those containing biodiesel\"\\n    },\\n    {\\n      \"HS编码\": \"2710192300\",\\n      \"HS系统商品规范中英文名称\": \"Diesel oil for Vehicle,excluding biodiesel\"\\n    },\\n    {\\n      \"HS编码\": \"2710199100\",\\n      \"HS系统商品规范中英文名称\": \"Lubricating oils, other than those containing biodiesel and other than waste oils\"\\n    },\\n    {\\n      \"HS编码\": \"2710199310\",\\n      \"HS系统商品规范中英文名称\": \"Basic oils for lubricating oils, other than those containing biodiesel\"\\n    },\\n    {\\n      \"HS编码\": \"2710199990\",\\n      \"HS系统商品规范中英文名称\": \"Other heavy oil; other heavy oil products, excluding biodiesel, including products with oil content ≥ 70% by weight\"\\n    }\\n  ]\\n}\\n\"\"\"\n",
        "# json_s = extract_json_objects(data)\n",
        "# for item in json_s:\n",
        "#     print(item)"
      ]
    },
    {
      "cell_type": "code",
      "execution_count": 18,
      "id": "3b2730cf-5776-446a-9d73-606534628c9b",
      "metadata": {
        "id": "3b2730cf-5776-446a-9d73-606534628c9b",
        "outputId": "4ef38101-e5e2-40c3-b19b-2d226a239db2",
        "colab": {
          "base_uri": "https://localhost:8080/"
        }
      },
      "outputs": [
        {
          "output_type": "stream",
          "name": "stdout",
          "text": [
            "[{'HS系统商品规范中英文名称': 'White oil (a colorless and transparent oil-like liquid '\n",
            "                   'composed of liquid hydrocarbon mixture, obtained from '\n",
            "                   'crude oil fractionation) the commercial component is 100% '\n",
            "                   'white mineral oil, and the viscosity of the product is 65 '\n",
            "                   'at 40 ℃',\n",
            "  'HS编码': '2710199910'},\n",
            " {'HS系统商品规范中英文名称': 'Lubricating grease, other those containing biodiesel and '\n",
            "                   'other than waste oils',\n",
            "  'HS编码': '2710199200'},\n",
            " {'HS系统商品规范中英文名称': 'Fuel oils No.5- No.7, other than those containing '\n",
            "                   'biodiesel',\n",
            "  'HS编码': '2710192200'},\n",
            " {'HS系统商品规范中英文名称': 'Other diesel oils and other fuel oils, other than those '\n",
            "                   'containing biodiesel',\n",
            "  'HS编码': '2710192990'},\n",
            " {'HS系统商品规范中英文名称': 'Aviation kerosene, other than those containing biodiesel',\n",
            "  'HS编码': '2710191100'},\n",
            " {'HS系统商品规范中英文名称': 'Liquid paraffin and heavy liquid paraffin, other than '\n",
            "                   'those containing biodiesel',\n",
            "  'HS编码': '2710199400'},\n",
            " {'HS系统商品规范中英文名称': 'Normal paraffin(C9-C13), other than those containing '\n",
            "                   'biodiesel',\n",
            "  'HS编码': '2710191910'},\n",
            " {'HS系统商品规范中英文名称': 'Paraffin oils(which less than 20% by volume distils at '\n",
            "                   'below 350℃, which more than 80% by volume distils at below '\n",
            "                   '550℃), other than those containing biodiesel',\n",
            "  'HS编码': '2710192910'},\n",
            " {'HS系统商品规范中英文名称': 'Isoalkane solvent, excluding biodiesel with initial '\n",
            "                   'boiling point of 225 ℃, flash point of 92 ℃, density of '\n",
            "                   '0.79g/cm3',\n",
            "  'HS编码': '2710191920'},\n",
            " {'HS系统商品规范中英文名称': 'Other kerosene distillages oils and preparations, other '\n",
            "                   'than those containing biodiesel',\n",
            "  'HS编码': '2710191990'},\n",
            " {'HS系统商品规范中英文名称': 'Lamp-kerosene, other than those containing biodiesel',\n",
            "  'HS编码': '2710191200'},\n",
            " {'HS系统商品规范中英文名称': 'Basic oils for lubricating oils, other than those '\n",
            "                   'containing biodiesel',\n",
            "  'HS编码': '2710199390'},\n",
            " {'HS系统商品规范中英文名称': 'Diesel oil for Vehicle,excluding biodiesel',\n",
            "  'HS编码': '2710192300'},\n",
            " {'HS系统商品规范中英文名称': 'Lubricating oils, other than those containing biodiesel '\n",
            "                   'and other than waste oils',\n",
            "  'HS编码': '2710199100'},\n",
            " {'HS系统商品规范中英文名称': 'Basic oils for lubricating oils, other than those '\n",
            "                   'containing biodiesel',\n",
            "  'HS编码': '2710199310'},\n",
            " {'HS系统商品规范中英文名称': 'Other heavy oil; other heavy oil products, excluding '\n",
            "                   'biodiesel, including products with oil content ≥ 70% by '\n",
            "                   'weight',\n",
            "  'HS编码': '2710199990'}]\n"
          ]
        }
      ],
      "source": [
        "import pprint\n",
        "\n",
        "\n",
        "if OK:\n",
        "    pprint.pprint(result)\n",
        "else:\n",
        "    json_s = extract_json_objects(data)\n",
        "    if len(json_s)>0:\n",
        "        pprint.pprint(json_s[0])\n",
        "    else:\n",
        "        print(\"Something is wrong, this is the raw text: \", result)"
      ]
    }
  ],
  "metadata": {
    "kernelspec": {
      "display_name": "Python 3 (ipykernel)",
      "language": "python",
      "name": "python3"
    },
    "language_info": {
      "codemirror_mode": {
        "name": "ipython",
        "version": 3
      },
      "file_extension": ".py",
      "mimetype": "text/x-python",
      "name": "python",
      "nbconvert_exporter": "python",
      "pygments_lexer": "ipython3",
      "version": "3.11.5"
    },
    "colab": {
      "provenance": [],
      "include_colab_link": true
    }
  },
  "nbformat": 4,
  "nbformat_minor": 5
}